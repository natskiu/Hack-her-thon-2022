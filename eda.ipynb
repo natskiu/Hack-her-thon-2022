{
 "cells": [
  {
   "cell_type": "markdown",
   "metadata": {},
   "source": [
    "Investigation of Carbon Footprints of Different Food Groups"
   ]
  },
  {
   "cell_type": "code",
   "execution_count": 46,
   "metadata": {},
   "outputs": [],
   "source": [
    "import pandas as pd\n",
    "import numpy as np\n",
    "import matplotlib as mpl\n",
    "import matplotlib.pyplot as plt\n",
    "\n",
    "df = pd.read_excel('food_data_simple.xlsx')"
   ]
  },
  {
   "cell_type": "code",
   "execution_count": 47,
   "metadata": {},
   "outputs": [
    {
     "name": "stdout",
     "output_type": "stream",
     "text": [
      "<class 'pandas.core.frame.DataFrame'>\n",
      "RangeIndex: 324 entries, 0 to 323\n",
      "Data columns (total 5 columns):\n",
      " #   Column                                            Non-Null Count  Dtype  \n",
      "---  ------                                            --------------  -----  \n",
      " 0   FOOD COMMODITY GROUP                              324 non-null    object \n",
      " 1   Food commodity ITEM                               324 non-null    object \n",
      " 2   Carbon Footprint kg CO2eq/kg or l of food ITEM    324 non-null    float64\n",
      " 3   Food commodity TYPOLOGY                           324 non-null    object \n",
      " 4   Carbon Footprint g CO2eq/g o cc of food TYPOLOGY  324 non-null    float64\n",
      "dtypes: float64(2), object(3)\n",
      "memory usage: 12.8+ KB\n"
     ]
    }
   ],
   "source": [
    "df.info()\n",
    "#df.head()\n",
    "#df.describe()\n"
   ]
  },
  {
   "cell_type": "code",
   "execution_count": 48,
   "metadata": {},
   "outputs": [
    {
     "data": {
      "text/plain": [
       "CROPS                     117\n",
       "AGRICULTURAL PROCESSED    100\n",
       "FISHING                    61\n",
       "ANIMAL HUSBANDRY           46\n",
       "Name: FOOD COMMODITY GROUP, dtype: int64"
      ]
     },
     "execution_count": 48,
     "metadata": {},
     "output_type": "execute_result"
    }
   ],
   "source": [
    "df[\"FOOD COMMODITY GROUP\"].value_counts()"
   ]
  },
  {
   "cell_type": "markdown",
   "metadata": {},
   "source": [
    "Now get the mean for each food commodity group and visualise potential trends:"
   ]
  },
  {
   "cell_type": "code",
   "execution_count": 49,
   "metadata": {},
   "outputs": [
    {
     "data": {
      "text/html": [
       "<div>\n",
       "<style scoped>\n",
       "    .dataframe tbody tr th:only-of-type {\n",
       "        vertical-align: middle;\n",
       "    }\n",
       "\n",
       "    .dataframe tbody tr th {\n",
       "        vertical-align: top;\n",
       "    }\n",
       "\n",
       "    .dataframe thead th {\n",
       "        text-align: right;\n",
       "    }\n",
       "</style>\n",
       "<table border=\"1\" class=\"dataframe\">\n",
       "  <thead>\n",
       "    <tr style=\"text-align: right;\">\n",
       "      <th></th>\n",
       "      <th>Carbon Footprint kg CO2eq/kg or l of food ITEM</th>\n",
       "      <th>Carbon Footprint g CO2eq/g o cc of food TYPOLOGY</th>\n",
       "    </tr>\n",
       "    <tr>\n",
       "      <th>FOOD COMMODITY GROUP</th>\n",
       "      <th></th>\n",
       "      <th></th>\n",
       "    </tr>\n",
       "  </thead>\n",
       "  <tbody>\n",
       "    <tr>\n",
       "      <th>AGRICULTURAL PROCESSED</th>\n",
       "      <td>1.744637</td>\n",
       "      <td>1.734610</td>\n",
       "    </tr>\n",
       "    <tr>\n",
       "      <th>ANIMAL HUSBANDRY</th>\n",
       "      <td>8.771132</td>\n",
       "      <td>8.260169</td>\n",
       "    </tr>\n",
       "    <tr>\n",
       "      <th>CROPS</th>\n",
       "      <td>0.854792</td>\n",
       "      <td>0.749487</td>\n",
       "    </tr>\n",
       "    <tr>\n",
       "      <th>FISHING</th>\n",
       "      <td>5.343937</td>\n",
       "      <td>4.671639</td>\n",
       "    </tr>\n",
       "  </tbody>\n",
       "</table>\n",
       "</div>"
      ],
      "text/plain": [
       "                        Carbon Footprint kg CO2eq/kg or l of food ITEM  \\\n",
       "FOOD COMMODITY GROUP                                                     \n",
       "AGRICULTURAL PROCESSED                                        1.744637   \n",
       "ANIMAL HUSBANDRY                                              8.771132   \n",
       "CROPS                                                         0.854792   \n",
       "FISHING                                                       5.343937   \n",
       "\n",
       "                        Carbon Footprint g CO2eq/g o cc of food TYPOLOGY  \n",
       "FOOD COMMODITY GROUP                                                      \n",
       "AGRICULTURAL PROCESSED                                          1.734610  \n",
       "ANIMAL HUSBANDRY                                                8.260169  \n",
       "CROPS                                                           0.749487  \n",
       "FISHING                                                         4.671639  "
      ]
     },
     "execution_count": 49,
     "metadata": {},
     "output_type": "execute_result"
    }
   ],
   "source": [
    "df.groupby(\"FOOD COMMODITY GROUP\").mean()"
   ]
  },
  {
   "cell_type": "code",
   "execution_count": 50,
   "metadata": {},
   "outputs": [
    {
     "name": "stdout",
     "output_type": "stream",
     "text": [
      "                        Carbon Footprint kg CO2eq/kg or l of food ITEM  \\\n",
      "FOOD COMMODITY GROUP                                                     \n",
      "AGRICULTURAL PROCESSED                                        1.744637   \n",
      "ANIMAL HUSBANDRY                                              8.771132   \n",
      "CROPS                                                         0.854792   \n",
      "FISHING                                                       5.343937   \n",
      "\n",
      "                        Carbon Footprint g CO2eq/g o cc of food TYPOLOGY  \n",
      "FOOD COMMODITY GROUP                                                      \n",
      "AGRICULTURAL PROCESSED                                          1.734610  \n",
      "ANIMAL HUSBANDRY                                                8.260169  \n",
      "CROPS                                                           0.749487  \n",
      "FISHING                                                         4.671639  \n"
     ]
    }
   ],
   "source": [
    "comm_group_df = df.groupby(\"FOOD COMMODITY GROUP\").mean()\n",
    "print(comm_group_df)"
   ]
  },
  {
   "cell_type": "markdown",
   "metadata": {},
   "source": [
    "Now look at CO2 footprint per food typology (higher resolution than food commodity group):"
   ]
  },
  {
   "cell_type": "code",
   "execution_count": 51,
   "metadata": {},
   "outputs": [
    {
     "data": {
      "text/html": [
       "<div>\n",
       "<style scoped>\n",
       "    .dataframe tbody tr th:only-of-type {\n",
       "        vertical-align: middle;\n",
       "    }\n",
       "\n",
       "    .dataframe tbody tr th {\n",
       "        vertical-align: top;\n",
       "    }\n",
       "\n",
       "    .dataframe thead th {\n",
       "        text-align: right;\n",
       "    }\n",
       "</style>\n",
       "<table border=\"1\" class=\"dataframe\">\n",
       "  <thead>\n",
       "    <tr style=\"text-align: right;\">\n",
       "      <th></th>\n",
       "      <th>Carbon Footprint kg CO2eq/kg or l of food ITEM</th>\n",
       "      <th>Carbon Footprint g CO2eq/g o cc of food TYPOLOGY</th>\n",
       "    </tr>\n",
       "    <tr>\n",
       "      <th>Food commodity TYPOLOGY</th>\n",
       "      <th></th>\n",
       "      <th></th>\n",
       "    </tr>\n",
       "  </thead>\n",
       "  <tbody>\n",
       "    <tr>\n",
       "      <th>BEEF BONE FREE MEAT*</th>\n",
       "      <td>25.751000</td>\n",
       "      <td>25.750</td>\n",
       "    </tr>\n",
       "    <tr>\n",
       "      <th>BEEF MEAT WITH BONE*</th>\n",
       "      <td>17.958200</td>\n",
       "      <td>17.960</td>\n",
       "    </tr>\n",
       "    <tr>\n",
       "      <th>BEER</th>\n",
       "      <td>0.728033</td>\n",
       "      <td>0.690</td>\n",
       "    </tr>\n",
       "    <tr>\n",
       "      <th>BISCUITS</th>\n",
       "      <td>1.461875</td>\n",
       "      <td>1.470</td>\n",
       "    </tr>\n",
       "    <tr>\n",
       "      <th>BOTTLED WATER* (mineral water)</th>\n",
       "      <td>0.491000</td>\n",
       "      <td>0.490</td>\n",
       "    </tr>\n",
       "    <tr>\n",
       "      <th>...</th>\n",
       "      <td>...</td>\n",
       "      <td>...</td>\n",
       "    </tr>\n",
       "    <tr>\n",
       "      <th>WINE</th>\n",
       "      <td>0.658700</td>\n",
       "      <td>0.660</td>\n",
       "    </tr>\n",
       "    <tr>\n",
       "      <th>YEAST COMPRESSED*</th>\n",
       "      <td>0.824000</td>\n",
       "      <td>0.824</td>\n",
       "    </tr>\n",
       "    <tr>\n",
       "      <th>YEAST DRIED*</th>\n",
       "      <td>3.294000</td>\n",
       "      <td>3.294</td>\n",
       "    </tr>\n",
       "    <tr>\n",
       "      <th>YEAST LIQUID*</th>\n",
       "      <td>0.503000</td>\n",
       "      <td>0.503</td>\n",
       "    </tr>\n",
       "    <tr>\n",
       "      <th>YOGURT</th>\n",
       "      <td>2.671067</td>\n",
       "      <td>2.550</td>\n",
       "    </tr>\n",
       "  </tbody>\n",
       "</table>\n",
       "<p>85 rows × 2 columns</p>\n",
       "</div>"
      ],
      "text/plain": [
       "                                Carbon Footprint kg CO2eq/kg or l of food ITEM  \\\n",
       "Food commodity TYPOLOGY                                                          \n",
       "BEEF BONE FREE MEAT*                                                 25.751000   \n",
       "BEEF MEAT WITH BONE*                                                 17.958200   \n",
       "BEER                                                                  0.728033   \n",
       "BISCUITS                                                              1.461875   \n",
       "BOTTLED WATER* (mineral water)                                        0.491000   \n",
       "...                                                                        ...   \n",
       "WINE                                                                  0.658700   \n",
       "YEAST COMPRESSED*                                                     0.824000   \n",
       "YEAST DRIED*                                                          3.294000   \n",
       "YEAST LIQUID*                                                         0.503000   \n",
       "YOGURT                                                                2.671067   \n",
       "\n",
       "                                Carbon Footprint g CO2eq/g o cc of food TYPOLOGY  \n",
       "Food commodity TYPOLOGY                                                           \n",
       "BEEF BONE FREE MEAT*                                                      25.750  \n",
       "BEEF MEAT WITH BONE*                                                      17.960  \n",
       "BEER                                                                       0.690  \n",
       "BISCUITS                                                                   1.470  \n",
       "BOTTLED WATER* (mineral water)                                             0.490  \n",
       "...                                                                          ...  \n",
       "WINE                                                                       0.660  \n",
       "YEAST COMPRESSED*                                                          0.824  \n",
       "YEAST DRIED*                                                               3.294  \n",
       "YEAST LIQUID*                                                              0.503  \n",
       "YOGURT                                                                     2.550  \n",
       "\n",
       "[85 rows x 2 columns]"
      ]
     },
     "execution_count": 51,
     "metadata": {},
     "output_type": "execute_result"
    }
   ],
   "source": [
    "df.groupby(\"Food commodity TYPOLOGY\").mean()"
   ]
  }
 ],
 "metadata": {
  "interpreter": {
   "hash": "483d159010173870e0ed9c19a73ddadca2b5bc91b8edfd621391035f27512818"
  },
  "kernelspec": {
   "display_name": "Python 3.9.2 64-bit",
   "language": "python",
   "name": "python3"
  },
  "language_info": {
   "codemirror_mode": {
    "name": "ipython",
    "version": 3
   },
   "file_extension": ".py",
   "mimetype": "text/x-python",
   "name": "python",
   "nbconvert_exporter": "python",
   "pygments_lexer": "ipython3",
   "version": "3.8.8"
  },
  "orig_nbformat": 4
 },
 "nbformat": 4,
 "nbformat_minor": 2
}
