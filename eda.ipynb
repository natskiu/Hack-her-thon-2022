{
 "cells": [
  {
   "cell_type": "markdown",
   "metadata": {},
   "source": [
    "# Investigation of Carbon-Dioxide Footprints of Different Food Groups #"
   ]
  },
  {
   "cell_type": "code",
   "execution_count": 171,
   "metadata": {},
   "outputs": [],
   "source": [
    "# import libraries\n",
    "\n",
    "import pandas as pd\n",
    "import numpy as np\n",
    "import matplotlib as mpl\n",
    "import matplotlib.pyplot as plt\n",
    "\n",
    "df = pd.read_excel('food_data_simple.xlsx')"
   ]
  },
  {
   "cell_type": "markdown",
   "metadata": {},
   "source": [
    "## Exploratory Analyses ##"
   ]
  },
  {
   "cell_type": "code",
   "execution_count": 172,
   "metadata": {},
   "outputs": [
    {
     "name": "stdout",
     "output_type": "stream",
     "text": [
      "<class 'pandas.core.frame.DataFrame'>\n",
      "RangeIndex: 324 entries, 0 to 323\n",
      "Data columns (total 5 columns):\n",
      " #   Column                                            Non-Null Count  Dtype  \n",
      "---  ------                                            --------------  -----  \n",
      " 0   FOOD COMMODITY GROUP                              324 non-null    object \n",
      " 1   Food commodity ITEM                               324 non-null    object \n",
      " 2   Carbon Footprint kg CO2eq/kg or l of food ITEM    324 non-null    float64\n",
      " 3   Food commodity TYPOLOGY                           324 non-null    object \n",
      " 4   Carbon Footprint g CO2eq/g o cc of food TYPOLOGY  324 non-null    float64\n",
      "dtypes: float64(2), object(3)\n",
      "memory usage: 12.8+ KB\n"
     ]
    },
    {
     "data": {
      "text/html": [
       "<div>\n",
       "<style scoped>\n",
       "    .dataframe tbody tr th:only-of-type {\n",
       "        vertical-align: middle;\n",
       "    }\n",
       "\n",
       "    .dataframe tbody tr th {\n",
       "        vertical-align: top;\n",
       "    }\n",
       "\n",
       "    .dataframe thead th {\n",
       "        text-align: right;\n",
       "    }\n",
       "</style>\n",
       "<table border=\"1\" class=\"dataframe\">\n",
       "  <thead>\n",
       "    <tr style=\"text-align: right;\">\n",
       "      <th></th>\n",
       "      <th>Carbon Footprint kg CO2eq/kg or l of food ITEM</th>\n",
       "      <th>Carbon Footprint g CO2eq/g o cc of food TYPOLOGY</th>\n",
       "    </tr>\n",
       "  </thead>\n",
       "  <tbody>\n",
       "    <tr>\n",
       "      <th>count</th>\n",
       "      <td>324.000000</td>\n",
       "      <td>324.000000</td>\n",
       "    </tr>\n",
       "    <tr>\n",
       "      <th>mean</th>\n",
       "      <td>3.098539</td>\n",
       "      <td>2.858299</td>\n",
       "    </tr>\n",
       "    <tr>\n",
       "      <th>std</th>\n",
       "      <td>5.758602</td>\n",
       "      <td>5.292955</td>\n",
       "    </tr>\n",
       "    <tr>\n",
       "      <th>min</th>\n",
       "      <td>0.109000</td>\n",
       "      <td>0.270000</td>\n",
       "    </tr>\n",
       "    <tr>\n",
       "      <th>25%</th>\n",
       "      <td>0.598750</td>\n",
       "      <td>0.565000</td>\n",
       "    </tr>\n",
       "    <tr>\n",
       "      <th>50%</th>\n",
       "      <td>1.376000</td>\n",
       "      <td>1.437000</td>\n",
       "    </tr>\n",
       "    <tr>\n",
       "      <th>75%</th>\n",
       "      <td>3.200000</td>\n",
       "      <td>3.880596</td>\n",
       "    </tr>\n",
       "    <tr>\n",
       "      <th>max</th>\n",
       "      <td>78.800175</td>\n",
       "      <td>78.800000</td>\n",
       "    </tr>\n",
       "  </tbody>\n",
       "</table>\n",
       "</div>"
      ],
      "text/plain": [
       "       Carbon Footprint kg CO2eq/kg or l of food ITEM  \\\n",
       "count                                      324.000000   \n",
       "mean                                         3.098539   \n",
       "std                                          5.758602   \n",
       "min                                          0.109000   \n",
       "25%                                          0.598750   \n",
       "50%                                          1.376000   \n",
       "75%                                          3.200000   \n",
       "max                                         78.800175   \n",
       "\n",
       "       Carbon Footprint g CO2eq/g o cc of food TYPOLOGY  \n",
       "count                                        324.000000  \n",
       "mean                                           2.858299  \n",
       "std                                            5.292955  \n",
       "min                                            0.270000  \n",
       "25%                                            0.565000  \n",
       "50%                                            1.437000  \n",
       "75%                                            3.880596  \n",
       "max                                           78.800000  "
      ]
     },
     "execution_count": 172,
     "metadata": {},
     "output_type": "execute_result"
    }
   ],
   "source": [
    "# preliminary exploration of data #1\n",
    "\n",
    "df.info()\n",
    "df.head()\n",
    "df.describe()\n"
   ]
  },
  {
   "cell_type": "markdown",
   "metadata": {},
   "source": [
    "By lookig at the information provided by .head() and, by taking a look at the dataset itself (in this case it was relatively easy as it was originally a .xlsx file and not too large) we could see that the data quality is rather good, e.g. we don't have any missing values. So, at this stag no further cleaning is necessary.\\\n",
    "Note: a few uniformative / empty columns were dropped already\\\n",
    "\\\n",
    "The summary statistics for numeric values provided by .describe() were also noted."
   ]
  },
  {
   "cell_type": "code",
   "execution_count": 173,
   "metadata": {},
   "outputs": [
    {
     "data": {
      "text/plain": [
       "CROPS                     117\n",
       "AGRICULTURAL PROCESSED    100\n",
       "FISHING                    61\n",
       "ANIMAL HUSBANDRY           46\n",
       "Name: FOOD COMMODITY GROUP, dtype: int64"
      ]
     },
     "execution_count": 173,
     "metadata": {},
     "output_type": "execute_result"
    }
   ],
   "source": [
    "# preliminary exploration of data ctn'd\n",
    "\n",
    "df[\"FOOD COMMODITY GROUP\"].value_counts()"
   ]
  },
  {
   "cell_type": "markdown",
   "metadata": {},
   "source": [
    "## Relative Distribution of CO<sub>2</sub> Footprint by Food Commodity Categories ##"
   ]
  },
  {
   "cell_type": "markdown",
   "metadata": {},
   "source": [
    "Here we're dealing with categorical variables so, we'll aim to make a bar chart for each variable to see what the relative distribution is.\\\n",
    "So, we proceed to get the mean for each food commodity group and visualise potential trends:"
   ]
  },
  {
   "cell_type": "code",
   "execution_count": 181,
   "metadata": {},
   "outputs": [
    {
     "data": {
      "text/plain": [
       "Text(0, 0.5, 'CO2 Footprint [kg CO2/eq kg]')"
      ]
     },
     "execution_count": 181,
     "metadata": {},
     "output_type": "execute_result"
    },
    {
     "data": {
      "image/png": "[encoded data removed]",
      "text/plain": [
       "<Figure size 432x288 with 1 Axes>"
      ]
     },
     "metadata": {
      "needs_background": "light"
     },
     "output_type": "display_data"
    }
   ],
   "source": [
    "df.rename(columns ={'Carbon Footprint kg CO2eq/kg or l of food ITEM': 'CO2_FP_item'}, inplace=True)\n",
    "commodity_group_means = df.groupby(\"FOOD COMMODITY GROUP\").CO2_FP_item.mean().reset_index()\n",
    "\n",
    "fig, ax = plt.subplots()\n",
    "#plt.grid()\n",
    "ax.bar(commodity_group_means.iloc[:,0], commodity_group_means.iloc[:,1], width=0.8)\n",
    "fig.suptitle('CO2 Footprint by Food Commodity Category')\n",
    "plt.rc('xtick', labelsize=6.6)\n",
    "plt.xlabel('Food commodities')\n",
    "plt.ylabel('CO2 Footprint [kg CO2/eq kg]')\n"
   ]
  },
  {
   "cell_type": "markdown",
   "metadata": {},
   "source": [
    "**It can be seen that the 'ANIMAL HUSBANDRY' and 'FISHING' commodity categories have a higher mean CO<sub>2</sub> footprint when expressed in [kg CO2/eq kg].**\n",
    "\n",
    "Further questions may be posed, such as:\\\n",
    "    - are these differences statistically significant? (particularly interesting when looking at 'ANIMAL HUSBANDRY' vs 'FISHING')\\\n",
    "    - is the mean an accurate statistic to describe the existing trends?\\\n",
    "    \\\n",
    "*These questions will be investigated later on.*"
   ]
  },
  {
   "cell_type": "markdown",
   "metadata": {},
   "source": [
    "## Relative Distribution of CO<sub>2</sub> Footprint by Food Topology Categories ##"
   ]
  },
  {
   "cell_type": "markdown",
   "metadata": {},
   "source": [
    "Similarly to the above case, just looking at CO<sub>2</sub> footprint per food typology (higher resolution than food commodity group):"
   ]
  },
  {
   "cell_type": "code",
   "execution_count": 179,
   "metadata": {},
   "outputs": [
    {
     "data": {
      "text/plain": [
       "Text(0, 0.5, 'CO2 Footprint [g Co2/eq g]')"
      ]
     },
     "execution_count": 179,
     "metadata": {},
     "output_type": "execute_result"
    },
    {
     "data": {
      "image/png": "[encoded data removed]",
      "text/plain": [
       "<Figure size 432x288 with 1 Axes>"
      ]
     },
     "metadata": {
      "needs_background": "light"
     },
     "output_type": "display_data"
    }
   ],
   "source": [
    "df.rename(columns ={'Carbon Footprint g CO2eq/g o cc of food TYPOLOGY': 'CO2_FP_typology'}, inplace=True)\n",
    "typology_means = df.groupby(\"Food commodity TYPOLOGY\").CO2_FP_typology.mean().reset_index()\n",
    "\n",
    "fig, ax = plt.subplots()\n",
    "#plt.grid()\n",
    "ax.bar(typology_means.iloc[:,0], typology_means.iloc[:,1], width=0.8)\n",
    "fig.suptitle('CO2 Footprint by Food Typology Category')\n",
    "plt.rc('xtick', labelsize=0.00000001)\n",
    "plt.xlabel('Food typologies')\n",
    "plt.ylabel('CO2 Footprint [g Co2/eq g]')"
   ]
  },
  {
   "cell_type": "markdown",
   "metadata": {},
   "source": [
    "From this it can be seen that there exist certain outliers within the topologies which have an outstandingly high CO<sub>2</sub> footprint.\\\n",
    "\\\n",
    "*These will be investigated further.*"
   ]
  },
  {
   "cell_type": "markdown",
   "metadata": {},
   "source": [
    "## Investigating Outliers - Food Topology ##"
   ]
  },
  {
   "cell_type": "markdown",
   "metadata": {},
   "source": [
    "Strictly following the scientific method, we'll eyeball some arbitrary cutoff value for outliers from the chart - 10 seems like a reasonable value - and see which typologies perform the worst in terms of CO<sub>2</sub> footprint."
   ]
  },
  {
   "cell_type": "code",
   "execution_count": 176,
   "metadata": {},
   "outputs": [
    {
     "name": "stdout",
     "output_type": "stream",
     "text": [
      "    Food commodity TYPOLOGY  CO2_FP_typology\n",
      "0      BEEF BONE FREE MEAT*        25.750000\n",
      "1      BEEF MEAT WITH BONE*        17.960000\n",
      "8   BUFFALO BONE FREE MEAT*        78.800000\n",
      "38     LAMB BONE FREE MEAT*        25.232558\n",
      "39     LAMB MEAT WITH BONE*        16.701088\n",
      "63         SHELLFISH FROZEN        11.470000\n"
     ]
    }
   ],
   "source": [
    "typ_outliers = typology_means[typology_means.CO2_FP_typology > 10]\n",
    "print(typ_outliers)"
   ]
  },
  {
   "cell_type": "markdown",
   "metadata": {},
   "source": [
    "It seems like most of the worst-performing typologies are types of red meat - we've all heard that red meat is \"bad for you and the environment\"... This data may confirm the latter but, let's investigate further!\\\n",
    "\\\n",
    "It may be noted also that among these worst typologies the least bad (SHELLFISH FROZEN) was the only non red meat.\\\n",
    "\\\n",
    "And, as we migt have guessed, each item in this \"worst list\" belongs to the Commodity Category \"ANIMAL HUSBANDRY\" or \"FISHING\" - these were identified as having higher mean CO<sub>2</sub> footprints than other commodity categories previously."
   ]
  },
  {
   "cell_type": "code",
   "execution_count": 178,
   "metadata": {},
   "outputs": [
    {
     "data": {
      "text/plain": [
       "Text(0, 0.5, 'CO2 Footprint [g Co2/eq g]')"
      ]
     },
     "execution_count": 178,
     "metadata": {},
     "output_type": "execute_result"
    },
    {
     "data": {
      "image/png": "[encoded data removed]",
      "text/plain": [
       "<Figure size 432x288 with 1 Axes>"
      ]
     },
     "metadata": {
      "needs_background": "light"
     },
     "output_type": "display_data"
    }
   ],
   "source": [
    "# plot the outliers\n",
    "\n",
    "fig, ax = plt.subplots()\n",
    "ax.bar(typ_outliers.iloc[:,0], typ_outliers.iloc[:,1], width=0.8)\n",
    "fig.suptitle('Outliers in CO2 Footprint by Food Typology Category')\n",
    "plt.rc('xtick', labelsize=4)\n",
    "plt.xlabel('Food typologies')\n",
    "plt.ylabel('CO2 Footprint [g Co2/eq g]')"
   ]
  }
 ],
 "metadata": {
  "interpreter": {
   "hash": "483d159010173870e0ed9c19a73ddadca2b5bc91b8edfd621391035f27512818"
  },
  "kernelspec": {
   "display_name": "Python 3.9.2 64-bit",
   "language": "python",
   "name": "python3"
  },
  "language_info": {
   "codemirror_mode": {
    "name": "ipython",
    "version": 3
   },
   "file_extension": ".py",
   "mimetype": "text/x-python",
   "name": "python",
   "nbconvert_exporter": "python",
   "pygments_lexer": "ipython3",
   "version": "3.8.8"
  },
  "orig_nbformat": 4
 },
 "nbformat": 4,
 "nbformat_minor": 2
}
