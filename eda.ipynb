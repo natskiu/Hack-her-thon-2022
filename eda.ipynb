{
 "cells": [
  {
   "cell_type": "markdown",
   "metadata": {},
   "source": [
    "# Investigation of Carbon-Dioxide Footprints of Different Food Groups #"
   ]
  },
  {
   "cell_type": "code",
   "execution_count": 156,
   "metadata": {},
   "outputs": [],
   "source": [
    "# import libraries\n",
    "\n",
    "import pandas as pd\n",
    "import numpy as np\n",
    "import matplotlib as mpl\n",
    "import matplotlib.pyplot as plt\n",
    "\n",
    "df = pd.read_excel('food_data_simple.xlsx')"
   ]
  },
  {
   "cell_type": "code",
   "execution_count": 162,
   "metadata": {},
   "outputs": [
    {
     "name": "stdout",
     "output_type": "stream",
     "text": [
      "<class 'pandas.core.frame.DataFrame'>\n",
      "RangeIndex: 324 entries, 0 to 323\n",
      "Data columns (total 5 columns):\n",
      " #   Column                                            Non-Null Count  Dtype  \n",
      "---  ------                                            --------------  -----  \n",
      " 0   FOOD COMMODITY GROUP                              324 non-null    object \n",
      " 1   Food commodity ITEM                               324 non-null    object \n",
      " 2   Carbon Footprint kg CO2eq/kg or l of food ITEM    324 non-null    float64\n",
      " 3   Food commodity TYPOLOGY                           324 non-null    object \n",
      " 4   Carbon Footprint g CO2eq/g o cc of food TYPOLOGY  324 non-null    float64\n",
      "dtypes: float64(2), object(3)\n",
      "memory usage: 12.8+ KB\n"
     ]
    },
    {
     "data": {
      "text/html": [
       "<div>\n",
       "<style scoped>\n",
       "    .dataframe tbody tr th:only-of-type {\n",
       "        vertical-align: middle;\n",
       "    }\n",
       "\n",
       "    .dataframe tbody tr th {\n",
       "        vertical-align: top;\n",
       "    }\n",
       "\n",
       "    .dataframe thead th {\n",
       "        text-align: right;\n",
       "    }\n",
       "</style>\n",
       "<table border=\"1\" class=\"dataframe\">\n",
       "  <thead>\n",
       "    <tr style=\"text-align: right;\">\n",
       "      <th></th>\n",
       "      <th>Carbon Footprint kg CO2eq/kg or l of food ITEM</th>\n",
       "      <th>Carbon Footprint g CO2eq/g o cc of food TYPOLOGY</th>\n",
       "    </tr>\n",
       "  </thead>\n",
       "  <tbody>\n",
       "    <tr>\n",
       "      <th>count</th>\n",
       "      <td>324.000000</td>\n",
       "      <td>324.000000</td>\n",
       "    </tr>\n",
       "    <tr>\n",
       "      <th>mean</th>\n",
       "      <td>3.098539</td>\n",
       "      <td>2.858299</td>\n",
       "    </tr>\n",
       "    <tr>\n",
       "      <th>std</th>\n",
       "      <td>5.758602</td>\n",
       "      <td>5.292955</td>\n",
       "    </tr>\n",
       "    <tr>\n",
       "      <th>min</th>\n",
       "      <td>0.109000</td>\n",
       "      <td>0.270000</td>\n",
       "    </tr>\n",
       "    <tr>\n",
       "      <th>25%</th>\n",
       "      <td>0.598750</td>\n",
       "      <td>0.565000</td>\n",
       "    </tr>\n",
       "    <tr>\n",
       "      <th>50%</th>\n",
       "      <td>1.376000</td>\n",
       "      <td>1.437000</td>\n",
       "    </tr>\n",
       "    <tr>\n",
       "      <th>75%</th>\n",
       "      <td>3.200000</td>\n",
       "      <td>3.880596</td>\n",
       "    </tr>\n",
       "    <tr>\n",
       "      <th>max</th>\n",
       "      <td>78.800175</td>\n",
       "      <td>78.800000</td>\n",
       "    </tr>\n",
       "  </tbody>\n",
       "</table>\n",
       "</div>"
      ],
      "text/plain": [
       "       Carbon Footprint kg CO2eq/kg or l of food ITEM  \\\n",
       "count                                      324.000000   \n",
       "mean                                         3.098539   \n",
       "std                                          5.758602   \n",
       "min                                          0.109000   \n",
       "25%                                          0.598750   \n",
       "50%                                          1.376000   \n",
       "75%                                          3.200000   \n",
       "max                                         78.800175   \n",
       "\n",
       "       Carbon Footprint g CO2eq/g o cc of food TYPOLOGY  \n",
       "count                                        324.000000  \n",
       "mean                                           2.858299  \n",
       "std                                            5.292955  \n",
       "min                                            0.270000  \n",
       "25%                                            0.565000  \n",
       "50%                                            1.437000  \n",
       "75%                                            3.880596  \n",
       "max                                           78.800000  "
      ]
     },
     "execution_count": 162,
     "metadata": {},
     "output_type": "execute_result"
    }
   ],
   "source": [
    "# preliminary exploration of data #1\n",
    "\n",
    "df.info()\n",
    "df.head()\n",
    "df.describe()\n"
   ]
  },
  {
   "cell_type": "code",
   "execution_count": 161,
   "metadata": {},
   "outputs": [
    {
     "data": {
      "text/plain": [
       "CROPS                     117\n",
       "AGRICULTURAL PROCESSED    100\n",
       "FISHING                    61\n",
       "ANIMAL HUSBANDRY           46\n",
       "Name: FOOD COMMODITY GROUP, dtype: int64"
      ]
     },
     "execution_count": 161,
     "metadata": {},
     "output_type": "execute_result"
    }
   ],
   "source": [
    "# preliminary exploration of data ctn'd\n",
    "\n",
    "df[\"FOOD COMMODITY GROUP\"].value_counts()"
   ]
  },
  {
   "cell_type": "markdown",
   "metadata": {},
   "source": [
    "## CO<sub>2</sub> Footprint by Food Commodity Categories ##"
   ]
  },
  {
   "cell_type": "markdown",
   "metadata": {},
   "source": [
    "Now we get the mean for each food commodity group and visualise potential trends:"
   ]
  },
  {
   "cell_type": "code",
   "execution_count": 151,
   "metadata": {},
   "outputs": [
    {
     "data": {
      "text/plain": [
       "Text(0, 0.5, 'CO2 Footprint [kg Co2/eq kg]')"
      ]
     },
     "execution_count": 151,
     "metadata": {},
     "output_type": "execute_result"
    },
    {
     "data": {
      "image/png": "[encoded data removed]",
      "text/plain": [
       "<Figure size 432x288 with 1 Axes>"
      ]
     },
     "metadata": {
      "needs_background": "light"
     },
     "output_type": "display_data"
    }
   ],
   "source": [
    "df.rename(columns ={'Carbon Footprint kg CO2eq/kg or l of food ITEM': 'CO2_FP_item'}, inplace=True)\n",
    "commodity_group_means = df.groupby(\"FOOD COMMODITY GROUP\").CO2_FP_item.mean().reset_index()\n",
    "\n",
    "fig, ax = plt.subplots()\n",
    "#plt.grid()\n",
    "ax.bar(commodity_group_means.iloc[:,0], commodity_group_means.iloc[:,1], width=0.8)\n",
    "fig.suptitle('CO2 Footprint by Food Commodity Category')\n",
    "plt.rc('xtick', labelsize=6.6)\n",
    "plt.xlabel('Food commodities')\n",
    "plt.ylabel('CO2 Footprint [kg CO2/eq kg]')\n"
   ]
  },
  {
   "cell_type": "markdown",
   "metadata": {},
   "source": [
    "**It can be seen that the 'ANIMAL HUSBANDRY' and 'FISHING' commodity categories have a higher mean CO<sub>2</sub> footprint when expressed in [kg CO2/eq kg].**\n",
    "\n",
    "Further questions may be posed, such as:\\\n",
    "    - are these differences statistically significant? (particularly interesting when looking at 'ANIMAL HUSBANDRY' vs 'FISHING')\\\n",
    "    - is the mean an accurate statistic to describe the existing trends?\\\n",
    "    \\\n",
    "These questions will be investigated later on."
   ]
  },
  {
   "cell_type": "markdown",
   "metadata": {},
   "source": [
    "## CO<sub>2</sub> Footprint by Food Topology Categories ##"
   ]
  },
  {
   "cell_type": "markdown",
   "metadata": {},
   "source": [
    "Now looking at CO<sub>2</sub> footprint per food typology (higher resolution than food commodity group):"
   ]
  },
  {
   "cell_type": "code",
   "execution_count": 154,
   "metadata": {},
   "outputs": [
    {
     "data": {
      "text/plain": [
       "Text(0, 0.5, 'CO2 Footprint [g Co2/eq g]')"
      ]
     },
     "execution_count": 154,
     "metadata": {},
     "output_type": "execute_result"
    },
    {
     "data": {
      "image/png": "[encoded data removed]",
      "text/plain": [
       "<Figure size 432x288 with 1 Axes>"
      ]
     },
     "metadata": {
      "needs_background": "light"
     },
     "output_type": "display_data"
    }
   ],
   "source": [
    "df.rename(columns ={'Carbon Footprint g CO2eq/g o cc of food TYPOLOGY': 'CO2_FP_typology'}, inplace=True)\n",
    "typology_means = df.groupby(\"Food commodity TYPOLOGY\").CO2_FP_typology.mean().reset_index()\n",
    "\n",
    "fig, ax = plt.subplots()\n",
    "#plt.grid()\n",
    "ax.bar(typology_means.iloc[:,0], typology_means.iloc[:,1], width=0.8)\n",
    "fig.suptitle('CO2 Footprint by Food Typology Category')\n",
    "plt.rc('xtick', labelsize=0.00000001)\n",
    "plt.xlabel('Food typologies')\n",
    "plt.ylabel('CO2 Footprint [g Co2/eq g]')"
   ]
  },
  {
   "cell_type": "markdown",
   "metadata": {},
   "source": [
    "From this it can be seen that there exist certain topologies which have an outstandingly high CO<sub>2</sub> footprint. These will be investigated further."
   ]
  }
 ],
 "metadata": {
  "interpreter": {
   "hash": "483d159010173870e0ed9c19a73ddadca2b5bc91b8edfd621391035f27512818"
  },
  "kernelspec": {
   "display_name": "Python 3.9.2 64-bit",
   "language": "python",
   "name": "python3"
  },
  "language_info": {
   "codemirror_mode": {
    "name": "ipython",
    "version": 3
   },
   "file_extension": ".py",
   "mimetype": "text/x-python",
   "name": "python",
   "nbconvert_exporter": "python",
   "pygments_lexer": "ipython3",
   "version": "3.8.8"
  },
  "orig_nbformat": 4
 },
 "nbformat": 4,
 "nbformat_minor": 2
}
